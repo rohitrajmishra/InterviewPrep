{
 "cells": [
  {
   "cell_type": "markdown",
   "metadata": {},
   "source": [
    "#  Replace Character Recursively\n",
    "Send Feedback\n",
    "Given an input string S and two characters c1 and c2, you need to replace every occurrence of character c1 with character c2 in the given string.\n",
    "Do this recursively.\n",
    "Input Format :\n",
    "\n",
    "Line 1 : Input String S\n",
    "Line 2 : Character c1 and c2 (separated by space)\n",
    "\n",
    "Output Format :\n",
    "\n",
    "Updated string\n",
    "\n",
    "Constraints :\n",
    "1 <= Length of String S <= 10^6\n",
    "Sample Input :\n",
    "\n",
    "abacd\n",
    "a x\n",
    "\n",
    "Sample Output :\n",
    "\n",
    "xbxcd\n",
    "\n"
   ]
  },
  {
   "cell_type": "code",
   "execution_count": 31,
   "metadata": {},
   "outputs": [],
   "source": [
    "def replace_char_recursively(sList, c1, c2):\n",
    "    # Base\n",
    "#     print(id(sList), sList)\n",
    "#     print(\"c1: \", id(c1))\n",
    "#     print(\"c2: \", id(c2))\n",
    "    if(len(sList)==0):\n",
    "        return\n",
    "    \n",
    "    if(sList[0] == c1):\n",
    "        sList[0] = c2\n",
    "    \n",
    "    print(sList[0], end=\"\")\n",
    "    replace_char_recursively(sList[1:], c1, c2)\n",
    "    "
   ]
  },
  {
   "cell_type": "code",
   "execution_count": 32,
   "metadata": {},
   "outputs": [
    {
     "name": "stdout",
     "output_type": "stream",
     "text": [
      "myList:  140630589578248\n",
      "hexo"
     ]
    }
   ],
   "source": [
    "myList = list(\"helo\")\n",
    "print(\"myList: \", id(myList))\n",
    "replace_char_recursively(myList, 'l', 'x')"
   ]
  },
  {
   "cell_type": "code",
   "execution_count": 34,
   "metadata": {},
   "outputs": [
    {
     "name": "stdout",
     "output_type": "stream",
     "text": [
      "hello\n",
      "l z\n"
     ]
    }
   ],
   "source": [
    "sList = list(input())\n",
    "c1, c2 = input().split(' ')"
   ]
  },
  {
   "cell_type": "code",
   "execution_count": 35,
   "metadata": {},
   "outputs": [
    {
     "name": "stdout",
     "output_type": "stream",
     "text": [
      "['h', 'e', 'l', 'l', 'o'] l z\n"
     ]
    }
   ],
   "source": [
    "print(sList, c1, c2)"
   ]
  },
  {
   "cell_type": "code",
   "execution_count": null,
   "metadata": {},
   "outputs": [],
   "source": []
  }
 ],
 "metadata": {
  "kernelspec": {
   "display_name": "Python 3",
   "language": "python",
   "name": "python3"
  },
  "language_info": {
   "codemirror_mode": {
    "name": "ipython",
    "version": 3
   },
   "file_extension": ".py",
   "mimetype": "text/x-python",
   "name": "python",
   "nbconvert_exporter": "python",
   "pygments_lexer": "ipython3",
   "version": "3.6.7"
  }
 },
 "nbformat": 4,
 "nbformat_minor": 4
}
