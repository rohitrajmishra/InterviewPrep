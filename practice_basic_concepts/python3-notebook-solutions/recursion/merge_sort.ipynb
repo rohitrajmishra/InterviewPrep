{
 "cells": [
  {
   "cell_type": "markdown",
   "metadata": {},
   "source": [
    "# Merge sort"
   ]
  },
  {
   "cell_type": "code",
   "execution_count": 19,
   "metadata": {},
   "outputs": [],
   "source": [
    "# time - O(nlogn), space - O(n)\n",
    "def merge(arr1, arr2, M, N):\n",
    "    i = 0;\n",
    "    j = 0;\n",
    "    outSize = M+N\n",
    "    output = [None for _ in range(outSize)]\n",
    "    outIndex = 0;\n",
    "    \n",
    "    while(i<M and j<N):\n",
    "        #compare\n",
    "        if(arr1[i] <= arr2[j]):\n",
    "            output[outIndex] = arr1[i];\n",
    "            i += 1;\n",
    "        else:\n",
    "            output[outIndex] = arr2[j];\n",
    "            j += 1;\n",
    "        outIndex +=1;\n",
    "    \n",
    "    #Check which arr has remaining elements\n",
    "    if(i<M):\n",
    "        while(i<M):\n",
    "            output[outIndex] = arr1[i];\n",
    "            i += 1;\n",
    "            outIndex +=1;\n",
    "    else:\n",
    "        while(j<N):\n",
    "            output[outIndex] = arr2[j];\n",
    "            j += 1;\n",
    "            outIndex +=1;\n",
    "    \n",
    "    print(output)\n",
    "    return output;\n",
    "\n",
    "def mergeSort(arr, start, end):\n",
    "    if(start>=end):\n",
    "        return arr[start:end+1]\n",
    "    \n",
    "    mid = int((start + end)/2)\n",
    "#     print(\"mid: \", mid)\n",
    "    arr1 = mergeSort(arr, start, mid)\n",
    "    arr2 = mergeSort(arr, mid+1, end)\n",
    "    \n",
    "    M = mid - start + 1\n",
    "    N = end - (mid+1) + 1\n",
    "    \n",
    "    # merge\n",
    "    arr = merge(arr1, arr2, M, N)\n",
    "    return arr\n"
   ]
  },
  {
   "cell_type": "code",
   "execution_count": 20,
   "metadata": {},
   "outputs": [
    {
     "name": "stdout",
     "output_type": "stream",
     "text": [
      "[2, 6]\n",
      "[2, 6, 8]\n",
      "[4, 5]\n",
      "[3, 4, 5]\n",
      "[2, 3, 4, 5, 6, 8]\n",
      "2 3 4 5 6 8\n"
     ]
    }
   ],
   "source": [
    "# Main\n",
    "# n=int(input())\n",
    "# arr=list(int(i) for i in input().strip().split(' '))\n",
    "n = 6\n",
    "arr = [2,6,8,5,4,3]\n",
    "arr = mergeSort(arr, 0, n-1)\n",
    "print(*arr)"
   ]
  },
  {
   "cell_type": "code",
   "execution_count": null,
   "metadata": {},
   "outputs": [],
   "source": []
  },
  {
   "cell_type": "code",
   "execution_count": null,
   "metadata": {},
   "outputs": [],
   "source": []
  }
 ],
 "metadata": {
  "kernelspec": {
   "display_name": "Python 3",
   "language": "python",
   "name": "python3"
  },
  "language_info": {
   "codemirror_mode": {
    "name": "ipython",
    "version": 3
   },
   "file_extension": ".py",
   "mimetype": "text/x-python",
   "name": "python",
   "nbconvert_exporter": "python",
   "pygments_lexer": "ipython3",
   "version": "3.6.7"
  }
 },
 "nbformat": 4,
 "nbformat_minor": 4
}
