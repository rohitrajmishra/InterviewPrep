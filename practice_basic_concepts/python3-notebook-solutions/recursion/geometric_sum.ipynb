{
 "cells": [
  {
   "cell_type": "markdown",
   "metadata": {},
   "source": [
    "#  Geometric Sum\n",
    "Send Feedback\n",
    "Given k, find the geometric sum i.e.\n",
    "\n",
    "1 + 1/2 + 1/4 + 1/8 + ... + 1/(2^k) \n",
    "\n",
    "using recursion.\n",
    "Input format :\n",
    "\n",
    "Integer k\n",
    "\n",
    "Output format :\n",
    "\n",
    "Geometric sum (upto 5 decimal places)\n",
    "\n",
    "Constraints :\n",
    "\n",
    "0 <= k <= 1000\n",
    "\n",
    "Sample Input 1 :\n",
    "\n",
    "3\n",
    "\n",
    "Sample Output 1 :\n",
    "\n",
    "1.87500\n",
    "\n",
    "Sample Input 2 :\n",
    "\n",
    "4\n",
    "\n",
    "Sample Output 2 :\n",
    "\n",
    "1.93750\n",
    "\n"
   ]
  },
  {
   "cell_type": "code",
   "execution_count": 12,
   "metadata": {},
   "outputs": [],
   "source": [
    "def geometricSum(k):\n",
    "    gSum = 0\n",
    "    for i in range(k+1):\n",
    "        gSum = gSum + (1/2**i)\n",
    "#         print(k, gSum)\n",
    "    gSum = round(gSum, 5)\n",
    "    return gSum"
   ]
  },
  {
   "cell_type": "code",
   "execution_count": 14,
   "metadata": {},
   "outputs": [
    {
     "name": "stdout",
     "output_type": "stream",
     "text": [
      "1.87500\n"
     ]
    }
   ],
   "source": [
    "print(\"%.5f\" %geometricSum(3))"
   ]
  },
  {
   "cell_type": "code",
   "execution_count": 15,
   "metadata": {},
   "outputs": [
    {
     "name": "stdout",
     "output_type": "stream",
     "text": [
      "1.93750\n"
     ]
    }
   ],
   "source": [
    "print(\"%.5f\" %geometricSum(4))"
   ]
  },
  {
   "cell_type": "code",
   "execution_count": null,
   "metadata": {},
   "outputs": [],
   "source": []
  }
 ],
 "metadata": {
  "kernelspec": {
   "display_name": "Python 3",
   "language": "python",
   "name": "python3"
  },
  "language_info": {
   "codemirror_mode": {
    "name": "ipython",
    "version": 3
   },
   "file_extension": ".py",
   "mimetype": "text/x-python",
   "name": "python",
   "nbconvert_exporter": "python",
   "pygments_lexer": "ipython3",
   "version": "3.6.7"
  }
 },
 "nbformat": 4,
 "nbformat_minor": 4
}
