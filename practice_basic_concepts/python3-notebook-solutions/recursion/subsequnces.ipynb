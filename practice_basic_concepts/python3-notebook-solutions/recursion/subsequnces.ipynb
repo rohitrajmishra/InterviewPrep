{
 "cells": [
  {
   "cell_type": "markdown",
   "metadata": {},
   "source": [
    "# Return subsequences of a string"
   ]
  },
  {
   "cell_type": "code",
   "execution_count": 40,
   "metadata": {},
   "outputs": [],
   "source": [
    "def subs(sInput, output):\n",
    "#     print(sInput)\n",
    "    if(len(sInput) == 0):\n",
    "        output = [\"\"]\n",
    "        return output, 1\n",
    "    \n",
    "    output, outSize = subs(sInput[1:], output)\n",
    "#     print(output, outSize)\n",
    "#     print(output[0])\n",
    "    \n",
    "    for i in range(outSize):\n",
    "#         print(i)\n",
    "        output.append(str(sInput[0]) + str(output[i]))\n",
    "    \n",
    "#     print(output)\n",
    "    return output, outSize * 2"
   ]
  },
  {
   "cell_type": "code",
   "execution_count": 41,
   "metadata": {},
   "outputs": [
    {
     "name": "stdout",
     "output_type": "stream",
     "text": [
      "(['', 'c', 'b', 'bc', 'a', 'ac', 'ab', 'abc'], 8)\n"
     ]
    }
   ],
   "source": [
    "print(subs(\"abc\", []))"
   ]
  },
  {
   "cell_type": "code",
   "execution_count": null,
   "metadata": {},
   "outputs": [],
   "source": []
  }
 ],
 "metadata": {
  "kernelspec": {
   "display_name": "Python 3",
   "language": "python",
   "name": "python3"
  },
  "language_info": {
   "codemirror_mode": {
    "name": "ipython",
    "version": 3
   },
   "file_extension": ".py",
   "mimetype": "text/x-python",
   "name": "python",
   "nbconvert_exporter": "python",
   "pygments_lexer": "ipython3",
   "version": "3.6.7"
  }
 },
 "nbformat": 4,
 "nbformat_minor": 4
}
