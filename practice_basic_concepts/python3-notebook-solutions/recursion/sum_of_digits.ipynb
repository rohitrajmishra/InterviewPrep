{
 "cells": [
  {
   "cell_type": "markdown",
   "metadata": {},
   "source": [
    "# Write a recursive function that returns the sum of the digits of a given integer.\n",
    "Input format :\n",
    "\n",
    "Integer N\n",
    "\n",
    "Output format :\n",
    "\n",
    "Sum of digits of N\n",
    "\n",
    "Constraints :\n",
    "\n",
    "0 <= N <= 10^9\n",
    "\n",
    "Sample Input 1 :\n",
    "\n",
    "12345\n",
    "\n",
    "Sample Output 1 :\n",
    "\n",
    "15\n",
    "\n",
    "Sample Input 2 :\n",
    "\n",
    "9\n",
    "\n",
    "Sample Output 2 :\n",
    "\n",
    "9\n",
    "\n"
   ]
  },
  {
   "cell_type": "code",
   "execution_count": 10,
   "metadata": {},
   "outputs": [],
   "source": [
    "sum = 0\n",
    "def sumOfDigit(num):\n",
    "    # Base case\n",
    "    if(num == 0):\n",
    "        return 0\n",
    "    \n",
    "    rem = num % 10\n",
    "    newNum = int(num / 10)\n",
    "#     print(rem, newNum)\n",
    "    \n",
    "    sum = rem + sumOfDigit(newNum)\n",
    "    return sum"
   ]
  },
  {
   "cell_type": "code",
   "execution_count": 11,
   "metadata": {},
   "outputs": [
    {
     "data": {
      "text/plain": [
       "1"
      ]
     },
     "execution_count": 11,
     "metadata": {},
     "output_type": "execute_result"
    }
   ],
   "source": [
    "sumOfDigit(1)"
   ]
  },
  {
   "cell_type": "code",
   "execution_count": 12,
   "metadata": {},
   "outputs": [
    {
     "data": {
      "text/plain": [
       "15"
      ]
     },
     "execution_count": 12,
     "metadata": {},
     "output_type": "execute_result"
    }
   ],
   "source": [
    "sumOfDigit(12345)"
   ]
  },
  {
   "cell_type": "code",
   "execution_count": 13,
   "metadata": {},
   "outputs": [
    {
     "data": {
      "text/plain": [
       "0"
      ]
     },
     "execution_count": 13,
     "metadata": {},
     "output_type": "execute_result"
    }
   ],
   "source": [
    "sumOfDigit(0)"
   ]
  },
  {
   "cell_type": "code",
   "execution_count": null,
   "metadata": {},
   "outputs": [],
   "source": []
  }
 ],
 "metadata": {
  "kernelspec": {
   "display_name": "Python 3",
   "language": "python",
   "name": "python3"
  },
  "language_info": {
   "codemirror_mode": {
    "name": "ipython",
    "version": 3
   },
   "file_extension": ".py",
   "mimetype": "text/x-python",
   "name": "python",
   "nbconvert_exporter": "python",
   "pygments_lexer": "ipython3",
   "version": "3.6.7"
  }
 },
 "nbformat": 4,
 "nbformat_minor": 4
}
