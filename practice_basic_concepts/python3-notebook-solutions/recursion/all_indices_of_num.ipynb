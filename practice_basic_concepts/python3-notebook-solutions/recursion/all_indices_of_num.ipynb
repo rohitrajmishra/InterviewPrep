{
 "cells": [
  {
   "cell_type": "code",
   "execution_count": 20,
   "metadata": {},
   "outputs": [],
   "source": [
    "output = []\n",
    "def allIndex(arr, x):\n",
    "    # Please add your code here\n",
    "    size = len(arr)\n",
    "    if(size == 0):\n",
    "       return -1\n",
    "    \n",
    "    # recursive call\n",
    "    allIndex(arr[1:], x)\n",
    "    \n",
    "    for i in range(len(output)):\n",
    "        output[i] = output[i] + 1\n",
    "        \n",
    "    if(arr[0] == x):\n",
    "        output.insert(0, 0)\n",
    "        print(output)\n",
    "        \n",
    "    return"
   ]
  },
  {
   "cell_type": "code",
   "execution_count": 21,
   "metadata": {},
   "outputs": [],
   "source": [
    "# # Main\n",
    "# from sys import setrecursionlimit\n",
    "# setrecursionlimit(11000)\n",
    "# n=int(input())\n",
    "# arr=list(int(i) for i in input().strip().split(' '))\n",
    "# x=int(input())\n",
    "# print(firstIndex(arr, x))"
   ]
  },
  {
   "cell_type": "code",
   "execution_count": 22,
   "metadata": {},
   "outputs": [
    {
     "name": "stdout",
     "output_type": "stream",
     "text": [
      "[0]\n",
      "[0, 2]\n",
      "[2, 4]\n"
     ]
    }
   ],
   "source": [
    "arr = [1, 3, 5, 4, 5, 8]\n",
    "x = 5\n",
    "allIndex(arr, x)\n",
    "print(output)"
   ]
  },
  {
   "cell_type": "code",
   "execution_count": null,
   "metadata": {},
   "outputs": [],
   "source": []
  }
 ],
 "metadata": {
  "kernelspec": {
   "display_name": "Python 3",
   "language": "python",
   "name": "python3"
  },
  "language_info": {
   "codemirror_mode": {
    "name": "ipython",
    "version": 3
   },
   "file_extension": ".py",
   "mimetype": "text/x-python",
   "name": "python",
   "nbconvert_exporter": "python",
   "pygments_lexer": "ipython3",
   "version": "3.6.7"
  }
 },
 "nbformat": 4,
 "nbformat_minor": 4
}
