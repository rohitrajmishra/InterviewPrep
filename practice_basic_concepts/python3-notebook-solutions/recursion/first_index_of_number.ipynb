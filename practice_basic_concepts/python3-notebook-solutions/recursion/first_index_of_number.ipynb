{
 "cells": [
  {
   "cell_type": "markdown",
   "metadata": {},
   "source": [
    "#  First Index of Number\n",
    "Send Feedback\n",
    "Given an array of length N and an integer x, you need to find and return the first index of integer x present in the array. Return -1 if it is not present in the array.\n",
    "First index means, the index of first occurrence of x in the input array.\n",
    "Do this recursively. Indexing in the array starts from 0.\n",
    "Input Format :\n",
    "\n",
    "Line 1 : An Integer N i.e. size of array\n",
    "Line 2 : N integers which are elements of the array, separated by spaces\n",
    "Line 3 : Integer x\n",
    "\n",
    "Output Format :\n",
    "\n",
    "first index or -1\n",
    "\n",
    "Constraints :\n",
    "1 <= N <= 10^3\n",
    "Sample Input :\n",
    "\n",
    "4\n",
    "9 8 10 8\n",
    "8\n",
    "\n",
    "Sample Output :\n",
    "\n",
    "1\n",
    "\n"
   ]
  },
  {
   "cell_type": "code",
   "execution_count": 3,
   "metadata": {},
   "outputs": [],
   "source": [
    "def firstIndex(arr, x):\n",
    "    # Please add your code here\n",
    "    if(len(arr) == 0):\n",
    "       return -1\n",
    "\n",
    "    if(arr[0] == x):\n",
    "        return 0\n",
    "    \n",
    "    smallOut = firstIndex(arr[1:], x)\n",
    "    if(smallOut != -1):\n",
    "        return smallOut + 1\n",
    "    else: \n",
    "        return -1\n"
   ]
  },
  {
   "cell_type": "code",
   "execution_count": 4,
   "metadata": {},
   "outputs": [
    {
     "name": "stdout",
     "output_type": "stream",
     "text": [
      "4\n",
      "1 2 3 3\n",
      "3\n",
      "2\n"
     ]
    }
   ],
   "source": [
    "    \n",
    "# Main\n",
    "from sys import setrecursionlimit\n",
    "setrecursionlimit(11000)\n",
    "n=int(input())\n",
    "arr=list(int(i) for i in input().strip().split(' '))\n",
    "x=int(input())\n",
    "print(firstIndex(arr, x))"
   ]
  },
  {
   "cell_type": "code",
   "execution_count": null,
   "metadata": {},
   "outputs": [],
   "source": []
  }
 ],
 "metadata": {
  "kernelspec": {
   "display_name": "Python 3",
   "language": "python",
   "name": "python3"
  },
  "language_info": {
   "codemirror_mode": {
    "name": "ipython",
    "version": 3
   },
   "file_extension": ".py",
   "mimetype": "text/x-python",
   "name": "python",
   "nbconvert_exporter": "python",
   "pygments_lexer": "ipython3",
   "version": "3.6.7"
  }
 },
 "nbformat": 4,
 "nbformat_minor": 4
}
