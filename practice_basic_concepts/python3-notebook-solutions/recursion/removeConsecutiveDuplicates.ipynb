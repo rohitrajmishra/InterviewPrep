{
 "cells": [
  {
   "cell_type": "code",
   "execution_count": 21,
   "metadata": {},
   "outputs": [],
   "source": [
    "# Problem ID 91, removeConsecutiveDuplicates\n",
    "output = []\n",
    "def removeConsecutiveDuplicates(inputList, si, size):\n",
    "    # Base\n",
    "    if(si == size-1):\n",
    "        ans = inputList[si]\n",
    "        output.append(ans)\n",
    "        return\n",
    "    \n",
    "    removeConsecutiveDuplicates(inputList, si+1, size)\n",
    "    \n",
    "    if(inputList[si] == output[-1]):\n",
    "        return\n",
    "    else:\n",
    "        output.append(inputList[si])\n",
    "\n",
    "    return\n",
    "    "
   ]
  },
  {
   "cell_type": "code",
   "execution_count": 22,
   "metadata": {},
   "outputs": [
    {
     "name": "stdout",
     "output_type": "stream",
     "text": [
      "axbzc\n"
     ]
    }
   ],
   "source": [
    "# Main\n",
    "# string = input().strip()\n",
    "string = \"aaxbbzc\"\n",
    "inputList = list(string)\n",
    "\n",
    "size = len(inputList)\n",
    "removeConsecutiveDuplicates(inputList, 0, size)\n",
    "print(''.join(output[::-1]))"
   ]
  },
  {
   "cell_type": "code",
   "execution_count": null,
   "metadata": {},
   "outputs": [],
   "source": []
  }
 ],
 "metadata": {
  "kernelspec": {
   "display_name": "Python 3",
   "language": "python",
   "name": "python3"
  },
  "language_info": {
   "codemirror_mode": {
    "name": "ipython",
    "version": 3
   },
   "file_extension": ".py",
   "mimetype": "text/x-python",
   "name": "python",
   "nbconvert_exporter": "python",
   "pygments_lexer": "ipython3",
   "version": "3.6.7"
  }
 },
 "nbformat": 4,
 "nbformat_minor": 4
}
