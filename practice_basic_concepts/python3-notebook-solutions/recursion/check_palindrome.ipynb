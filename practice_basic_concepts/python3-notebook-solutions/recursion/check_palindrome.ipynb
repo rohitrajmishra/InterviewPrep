{
 "cells": [
  {
   "cell_type": "markdown",
   "metadata": {},
   "source": [
    "#  Check Palindrome (recursive)\n",
    "Send Feedback\n",
    "Check whether a given String S is a palindrome using recursion. Return true or false.\n",
    "Input Format :\n",
    "\n",
    "String S\n",
    "\n",
    "Output Format :\n",
    "\n",
    "'true' or 'false'\n",
    "\n",
    "Constraints :\n",
    "\n",
    "0 <= |S| <= 1000\n",
    "where |S| represents length of string S.\n",
    "\n",
    "Sample Input 1 :\n",
    "\n",
    "racecar\n",
    "\n",
    "Sample Output 1:\n",
    "\n",
    "true\n",
    "\n",
    "Sample Input 2 :\n",
    "\n",
    "ninja\n",
    "\n",
    "Sample Output 2:\n",
    "\n",
    "false\n",
    "\n"
   ]
  },
  {
   "cell_type": "code",
   "execution_count": 37,
   "metadata": {},
   "outputs": [],
   "source": [
    "# counter = 0\n",
    "def checkPalindrome(inputStr):\n",
    "#     global counter\n",
    "#     counter += 1\n",
    "#     print(counter)\n",
    "#     print(inputStr)\n",
    "    # Base case\n",
    "    inputSize = len(inputStr)\n",
    "    if(inputSize == 0 or inputSize == 1):\n",
    "        return True\n",
    "    \n",
    "    if(inputStr[0] != inputStr[inputSize-1]):\n",
    "        return False\n",
    "    \n",
    "    smallOut = checkPalindrome(inputStr[1:inputSize-1])\n",
    "    return smallOut"
   ]
  },
  {
   "cell_type": "code",
   "execution_count": 38,
   "metadata": {},
   "outputs": [
    {
     "data": {
      "text/plain": [
       "True"
      ]
     },
     "execution_count": 38,
     "metadata": {},
     "output_type": "execute_result"
    }
   ],
   "source": [
    "checkPalindrome('racecar')"
   ]
  },
  {
   "cell_type": "code",
   "execution_count": 39,
   "metadata": {},
   "outputs": [
    {
     "data": {
      "text/plain": [
       "True"
      ]
     },
     "execution_count": 39,
     "metadata": {},
     "output_type": "execute_result"
    }
   ],
   "source": [
    "checkPalindrome('dalad')"
   ]
  },
  {
   "cell_type": "code",
   "execution_count": 40,
   "metadata": {},
   "outputs": [
    {
     "data": {
      "text/plain": [
       "False"
      ]
     },
     "execution_count": 40,
     "metadata": {},
     "output_type": "execute_result"
    }
   ],
   "source": [
    "checkPalindrome('India')"
   ]
  },
  {
   "cell_type": "code",
   "execution_count": 15,
   "metadata": {},
   "outputs": [
    {
     "name": "stdout",
     "output_type": "stream",
     "text": [
      "acecar\n"
     ]
    }
   ],
   "source": [
    "inputStr = 'racecar'\n",
    "inputSize = len(inputStr)\n",
    "print(inputStr[1:inputSize])"
   ]
  },
  {
   "cell_type": "code",
   "execution_count": 18,
   "metadata": {},
   "outputs": [
    {
     "name": "stdout",
     "output_type": "stream",
     "text": [
      "racecar 7\n",
      "aceca 5\n",
      "cec 3\n"
     ]
    }
   ],
   "source": [
    "inputStr = 'racecar'\n",
    "inputSize = len(inputStr)\n",
    "while(not (inputSize == 0 or inputSize == 1)):\n",
    "    print(inputStr, inputSize)\n",
    "    inputStr = inputStr[1:inputSize-1]\n",
    "    inputSize = len(inputStr)\n",
    "#     print(inputStr, inputSize)"
   ]
  },
  {
   "cell_type": "code",
   "execution_count": null,
   "metadata": {},
   "outputs": [],
   "source": []
  }
 ],
 "metadata": {
  "kernelspec": {
   "display_name": "Python 3",
   "language": "python",
   "name": "python3"
  },
  "language_info": {
   "codemirror_mode": {
    "name": "ipython",
    "version": 3
   },
   "file_extension": ".py",
   "mimetype": "text/x-python",
   "name": "python",
   "nbconvert_exporter": "python",
   "pygments_lexer": "ipython3",
   "version": "3.6.7"
  }
 },
 "nbformat": 4,
 "nbformat_minor": 4
}
