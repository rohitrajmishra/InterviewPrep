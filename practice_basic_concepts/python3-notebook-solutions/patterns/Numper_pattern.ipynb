{
 "cells": [
  {
   "cell_type": "markdown",
   "metadata": {},
   "source": [
    "# Problem1"
   ]
  },
  {
   "cell_type": "code",
   "execution_count": 1,
   "metadata": {},
   "outputs": [],
   "source": [
    "#  Number Pattern\n",
    "# Send Feedback\n",
    "# Print the following pattern\n",
    "# Pattern for N = 4\n",
    "\n",
    "#        1\n",
    "#      23\n",
    "#    345\n",
    "#  4567\n",
    "\n",
    "# Input Format :\n",
    "\n",
    "# N (Total no. of rows)\n",
    "\n",
    "# Output Format :\n",
    "\n",
    "# Pattern in N lines\n",
    "\n",
    "# Sample Input :\n",
    "\n",
    "# 5\n",
    "\n",
    "# Sample Output :\n",
    "\n",
    "#           1\n",
    "#         23\n",
    "#       345\n",
    "#     4567\n",
    "#   56789\n",
    "\n"
   ]
  },
  {
   "cell_type": "code",
   "execution_count": 10,
   "metadata": {},
   "outputs": [],
   "source": [
    "def pattern(n):\n",
    "    for i in range(1, n+1):\n",
    "        j = n;\n",
    "        sym = i-1;\n",
    "        # print forward part\n",
    "        while j>0:\n",
    "            if(j<=i):\n",
    "                sym += 1\n",
    "                print(sym, end='')\n",
    "            else:\n",
    "                print('.', end='')\n",
    "            j -= 1\n",
    "        print()"
   ]
  },
  {
   "cell_type": "code",
   "execution_count": 11,
   "metadata": {},
   "outputs": [
    {
     "name": "stdout",
     "output_type": "stream",
     "text": [
      "...1\n",
      "..23\n",
      ".345\n",
      "4567\n"
     ]
    }
   ],
   "source": [
    "pattern(4)"
   ]
  },
  {
   "cell_type": "code",
   "execution_count": 12,
   "metadata": {},
   "outputs": [
    {
     "name": "stdout",
     "output_type": "stream",
     "text": [
      "....1\n",
      "...23\n",
      "..345\n",
      ".4567\n",
      "56789\n"
     ]
    }
   ],
   "source": [
    "pattern(5)"
   ]
  },
  {
   "cell_type": "code",
   "execution_count": null,
   "metadata": {},
   "outputs": [],
   "source": []
  },
  {
   "cell_type": "code",
   "execution_count": null,
   "metadata": {},
   "outputs": [],
   "source": []
  },
  {
   "cell_type": "markdown",
   "metadata": {},
   "source": [
    "---"
   ]
  },
  {
   "cell_type": "markdown",
   "metadata": {},
   "source": [
    "# Problem2"
   ]
  },
  {
   "cell_type": "markdown",
   "metadata": {},
   "source": [
    "# Print the following pattern for n number of rows.\n",
    "\n",
    "For eg. N = 5\n",
    "```\n",
    "1        1\n",
    "12      21\n",
    "123    321\n",
    "1234  4321\n",
    "1234554321\n",
    "```\n",
    "Sample Input 1 :\n",
    "```\n",
    "4\n",
    "```\n",
    "Sample Output 1 :\n",
    "```\n",
    "1      1\n",
    "12    21\n",
    "123  321\n",
    "12344321\n",
    "```\n"
   ]
  },
  {
   "cell_type": "code",
   "execution_count": 26,
   "metadata": {},
   "outputs": [
    {
     "name": "stdout",
     "output_type": "stream",
     "text": [
      "4\n",
      "1......1\n",
      "12....21\n",
      "123..321\n",
      "12344321\n"
     ]
    }
   ],
   "source": [
    "def pattern2(n):\n",
    "    sym = 0\n",
    "    for i in range(n):\n",
    "        j = 0\n",
    "        while(j<n):\n",
    "            sym = j+1\n",
    "            if(j<i+1):\n",
    "                print(sym, end='')\n",
    "            else:\n",
    "                print('.', end='')\n",
    "            j += 1\n",
    "        \n",
    "        k = n\n",
    "        while(k>0):\n",
    "            sym = k\n",
    "            if(k<=i+1):\n",
    "                print(sym, end='')\n",
    "            else:\n",
    "                print('.', end='')\n",
    "            k -= 1\n",
    "            \n",
    "        print()\n",
    "\n",
    "#main\n",
    "n = int(input())\n",
    "pattern2(n)"
   ]
  },
  {
   "cell_type": "code",
   "execution_count": 27,
   "metadata": {},
   "outputs": [
    {
     "name": "stdout",
     "output_type": "stream",
     "text": [
      "5\n",
      "1........1\n",
      "12......21\n",
      "123....321\n",
      "1234..4321\n",
      "1234554321\n"
     ]
    }
   ],
   "source": [
    "n = int(input())\n",
    "pattern2(n)"
   ]
  },
  {
   "cell_type": "markdown",
   "metadata": {},
   "source": [
    "---"
   ]
  },
  {
   "cell_type": "markdown",
   "metadata": {},
   "source": [
    "# Problem3 - Arrow patterns"
   ]
  },
  {
   "cell_type": "code",
   "execution_count": 3,
   "metadata": {},
   "outputs": [],
   "source": [
    "#  Arrow pattern\n",
    "# Send Feedback\n",
    "# Print the following pattern for the given number of rows.\n",
    "# Assume N is always odd.\n",
    "# Note : There is space after every star.\n",
    "# Pattern for N = 7\n",
    "\n",
    "# *\n",
    "#  * *\n",
    "#    * * *\n",
    "#      * * * *\n",
    "#    * * *\n",
    "#  * *\n",
    "# *\n",
    "\n",
    "# Input format :\n",
    "\n",
    "# Integer N (Total no. of rows)\n",
    "\n",
    "# Output format :\n",
    "\n",
    "# Pattern in N lines\n",
    "\n",
    "# Sample Input :\n",
    "\n",
    "# 11\n",
    "\n",
    "# Sample Output :\n",
    "\n",
    "# *\n",
    "#  * *\n",
    "#    * * *\n",
    "#      * * * *\n",
    "#        * * * * *\n",
    "#          * * * * * *\n",
    "#        * * * * *\n",
    "#      * * * *\n",
    "#    * * *\n",
    "#  * *\n",
    "# *\n",
    "\n"
   ]
  },
  {
   "cell_type": "code",
   "execution_count": null,
   "metadata": {},
   "outputs": [],
   "source": []
  },
  {
   "cell_type": "code",
   "execution_count": null,
   "metadata": {},
   "outputs": [],
   "source": []
  },
  {
   "cell_type": "code",
   "execution_count": null,
   "metadata": {},
   "outputs": [],
   "source": []
  },
  {
   "cell_type": "markdown",
   "metadata": {},
   "source": [
    "---"
   ]
  },
  {
   "cell_type": "markdown",
   "metadata": {},
   "source": [
    "# Problem4"
   ]
  },
  {
   "cell_type": "markdown",
   "metadata": {},
   "source": [
    "# Number Pattern\n",
    "Send Feedback\n",
    "Print the following pattern\n",
    "Pattern for N = 4\n",
    "\n",
    "4 4 4 4 4 4 4 \n",
    "4 3 3 3 3 3 4 \n",
    "4 3 2 2 2 3 4 \n",
    "4 3 2 1 2 3 4 \n",
    "4 3 2 2 2 3 4 \n",
    "4 3 3 3 3 3 4 \n",
    "4 4 4 4 4 4 4 \n",
    "\n",
    "Input Format :\n",
    "\n",
    "N (Total no. of rows)\n",
    "\n",
    "Output Format :\n",
    "\n",
    "Pattern in N lines\n",
    "\n",
    "Sample Input 1 :\n",
    "\n",
    "5\n",
    "\n",
    "Sample Output 1 :\n",
    "\n",
    "5 5 5 5 5 5 5 5 5 \n",
    "5 4 4 4 4 4 4 4 5 \n",
    "5 4 3 3 3 3 3 4 5 \n",
    "5 4 3 2 2 2 3 4 5 \n",
    "5 4 3 2 1 2 3 4 5 \n",
    "5 4 3 2 2 2 3 4 5 \n",
    "5 4 3 3 3 3 3 4 5 \n",
    "5 4 4 4 4 4 4 4 5 \n",
    "5 5 5 5 5 5 5 5 5 \n",
    "\n",
    "Code Pair\n",
    "\n",
    "1\n",
    "\n",
    "## Read input as specified in the question.\n",
    "\n",
    "2\n",
    "\n",
    "## Print output as specified in the question.\n",
    "\n",
    "3\n",
    "\n",
    "​\n",
    "\n",
    "CUSTOM INPUT\n",
    "\n",
    "SUBMIT SOLUTION\n",
    "\n",
    "PREVIOUS\n"
   ]
  },
  {
   "cell_type": "code",
   "execution_count": null,
   "metadata": {},
   "outputs": [],
   "source": []
  },
  {
   "cell_type": "code",
   "execution_count": null,
   "metadata": {},
   "outputs": [],
   "source": []
  },
  {
   "cell_type": "code",
   "execution_count": null,
   "metadata": {},
   "outputs": [],
   "source": []
  },
  {
   "cell_type": "code",
   "execution_count": null,
   "metadata": {},
   "outputs": [],
   "source": []
  },
  {
   "cell_type": "markdown",
   "metadata": {},
   "source": [
    "---"
   ]
  },
  {
   "cell_type": "markdown",
   "metadata": {},
   "source": [
    "# Problem5"
   ]
  },
  {
   "cell_type": "code",
   "execution_count": 4,
   "metadata": {},
   "outputs": [],
   "source": [
    "#  Print the pattern\n",
    "# Send Feedback\n",
    "# Print the following pattern for the given number of rows.\n",
    "# Pattern for N = 5\n",
    "\n",
    "#  1    2   3    4   5\n",
    "#  11   12  13   14  15\n",
    "#  21   22  23   24  25\n",
    "#  16   17  18   19  20\n",
    "#  6    7    8   9   10\n",
    "\n",
    "# Input format : N (Total no. of rows)\n",
    "\n",
    "# Output format : Pattern in N lines\n",
    "# Sample Input :\n",
    "\n",
    "# 4\n",
    "\n",
    "# Sample Output :\n",
    "\n",
    "#  1  2  3  4\n",
    "#  9 10 11 12\n",
    "# 13 14 15 16\n",
    "#  5  6  7  8\n",
    "\n"
   ]
  },
  {
   "cell_type": "code",
   "execution_count": null,
   "metadata": {},
   "outputs": [],
   "source": []
  },
  {
   "cell_type": "code",
   "execution_count": null,
   "metadata": {},
   "outputs": [],
   "source": []
  },
  {
   "cell_type": "code",
   "execution_count": null,
   "metadata": {},
   "outputs": [],
   "source": []
  },
  {
   "cell_type": "markdown",
   "metadata": {},
   "source": [
    "---"
   ]
  },
  {
   "cell_type": "markdown",
   "metadata": {},
   "source": [
    "---"
   ]
  },
  {
   "cell_type": "code",
   "execution_count": null,
   "metadata": {},
   "outputs": [],
   "source": []
  }
 ],
 "metadata": {
  "kernelspec": {
   "display_name": "Python 3",
   "language": "python",
   "name": "python3"
  },
  "language_info": {
   "codemirror_mode": {
    "name": "ipython",
    "version": 3
   },
   "file_extension": ".py",
   "mimetype": "text/x-python",
   "name": "python",
   "nbconvert_exporter": "python",
   "pygments_lexer": "ipython3",
   "version": "3.6.7"
  }
 },
 "nbformat": 4,
 "nbformat_minor": 4
}
