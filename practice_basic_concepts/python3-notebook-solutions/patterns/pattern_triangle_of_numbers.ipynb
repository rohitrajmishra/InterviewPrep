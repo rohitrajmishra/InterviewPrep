{
 "cells": [
  {
   "cell_type": "code",
   "execution_count": null,
   "metadata": {},
   "outputs": [],
   "source": [
    "#  Pattern: Triangle of numbers\n",
    "# Send Feedback\n",
    "# Print the following pattern for the given number of rows.\n",
    "# Pattern for N = 4\n",
    "\n",
    "\n",
    "# The dots represent spaces.\n",
    "\n",
    "\n",
    "\n",
    "# Input format :\n",
    "\n",
    "# Integer N (Total no. of rows)\n",
    "\n",
    "# Output format :\n",
    "\n",
    "# Pattern in N lines\n",
    "\n",
    "# Constraints :\n",
    "\n",
    "# 0 <= N <= 50\n",
    "\n",
    "# Sample Input 1:\n",
    "\n",
    "# 5\n",
    "\n",
    "# Sample Output 1:\n",
    "\n",
    "#            1\n",
    "#          232\n",
    "#        34543\n",
    "#      4567654\n",
    "#    567898765\n",
    "\n",
    "# Sample Input 2:\n",
    "\n",
    "# 4\n",
    "\n",
    "# Sample Output 2:\n",
    "\n",
    "#            1\n",
    "#          232\n",
    "#        34543\n",
    "#      4567654\n",
    "\n"
   ]
  },
  {
   "cell_type": "markdown",
   "metadata": {},
   "source": [
    "# Solution"
   ]
  },
  {
   "cell_type": "code",
   "execution_count": 53,
   "metadata": {},
   "outputs": [],
   "source": [
    "def pattern(n):\n",
    "    for i in range(1, n+1):\n",
    "        j = n;\n",
    "        sym = i-1\n",
    "        # print forward part\n",
    "        while j>0:\n",
    "            if(j<=i):\n",
    "                sym += 1\n",
    "                print(sym, end='')\n",
    "            else:\n",
    "                print('.', end='')\n",
    "            j -= 1\n",
    "#         print()\n",
    "        #print remaining part\n",
    "        k = 0\n",
    "        sym = sym - 1\n",
    "        while(k<i-1):\n",
    "            print(sym, end='')\n",
    "            sym -= 1\n",
    "            k += 1\n",
    "        print()"
   ]
  },
  {
   "cell_type": "code",
   "execution_count": 52,
   "metadata": {},
   "outputs": [
    {
     "name": "stdout",
     "output_type": "stream",
     "text": [
      "...1\n",
      "..232\n",
      ".34543\n",
      "4567654\n"
     ]
    }
   ],
   "source": [
    "pattern(4)"
   ]
  },
  {
   "cell_type": "code",
   "execution_count": 54,
   "metadata": {},
   "outputs": [
    {
     "name": "stdout",
     "output_type": "stream",
     "text": [
      "....1\n",
      "...232\n",
      "..34543\n",
      ".4567654\n",
      "567898765\n"
     ]
    }
   ],
   "source": [
    "pattern(5)"
   ]
  },
  {
   "cell_type": "code",
   "execution_count": null,
   "metadata": {},
   "outputs": [],
   "source": []
  }
 ],
 "metadata": {
  "kernelspec": {
   "display_name": "Python 3",
   "language": "python",
   "name": "python3"
  },
  "language_info": {
   "codemirror_mode": {
    "name": "ipython",
    "version": 3
   },
   "file_extension": ".py",
   "mimetype": "text/x-python",
   "name": "python",
   "nbconvert_exporter": "python",
   "pygments_lexer": "ipython3",
   "version": "3.6.7"
  }
 },
 "nbformat": 4,
 "nbformat_minor": 4
}
