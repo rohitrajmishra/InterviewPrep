{
 "cells": [
  {
   "cell_type": "markdown",
   "metadata": {},
   "source": [
    "Code : Find duplicate\n",
    "Send Feedback\n",
    "You have been given an integer array/list(ARR) of size N which contains numbers from 0 to (N - 2). Each number is present at least once. That is, if N = 5, the array/list constitutes values ranging from 0 to 3, and among these, there is a single integer value that is present twice. You need to find and return that duplicate number present in the array.\n",
    "Note :\n",
    "\n",
    "Duplicate number is always present in the given array/list.\n",
    "\n",
    "Input format :\n",
    "\n",
    "The first line contains an Integer 't' which denotes the number of test cases or queries to be run. Then the test cases follow.\n",
    "\n",
    "First line of each test case or query contains an integer 'N' representing the size of the array/list.\n",
    "\n",
    "Second line contains 'N' single space separated integers representing the elements in the array/list.\n",
    "\n",
    "Output Format :\n",
    "\n",
    "For each test case, print the duplicate element in the array/list.\n",
    "\n",
    "Output for every test case will be printed in a separate line.\n",
    "\n",
    "Constraints :\n",
    "\n",
    "1 <= t <= 10^2\n",
    "0 <= N <= 10^6\n",
    "\n",
    "Time Limit: 1 sec\n",
    "\n",
    "Sample Input 1:\n",
    "\n",
    "1\n",
    "9\n",
    "0 7 2 5 4 7 1 3 6\n",
    "\n",
    "Sample Output 1:\n",
    "\n",
    "7\n",
    "\n",
    "Sample Input 2:\n",
    "\n",
    "2\n",
    "5\n",
    "0 2 1 3 1\n",
    "7\n",
    "0 3 1 5 4 3 2\n",
    "\n",
    "Sample Output 2:\n",
    "\n",
    "1\n",
    "3\n",
    "\n"
   ]
  },
  {
   "cell_type": "code",
   "execution_count": 12,
   "metadata": {},
   "outputs": [],
   "source": [
    "#Initiazlize\n",
    "n = 9\n",
    "inputArray = [0,7,2,5,4,7,1,3,6]"
   ]
  },
  {
   "cell_type": "code",
   "execution_count": 23,
   "metadata": {},
   "outputs": [
    {
     "data": {
      "text/plain": [
       "[0, 7, 2, 5, 4, 7, 1, 3, 6]"
      ]
     },
     "execution_count": 23,
     "metadata": {},
     "output_type": "execute_result"
    }
   ],
   "source": [
    "inputArray"
   ]
  },
  {
   "cell_type": "code",
   "execution_count": 28,
   "metadata": {},
   "outputs": [],
   "source": [
    "# Method1 - TIme O(n), space O(n) for outputArray or hashmap/dict like object to keep track of already occured num\n",
    "outputArray = [None] * n\n",
    "\n",
    "for i in range(n):\n",
    "    outputArray[i] = -1\n",
    "    \n",
    "def findDuplicate(inputArray, n, outputArray):\n",
    "    for i in range(n):\n",
    "        item = inputArray[i]\n",
    "#         print(item)\n",
    "        # If element is already inserted in outputArray means it is duplicate\n",
    "        if(outputArray[item] != -1 ):\n",
    "            print(\"Duplicate: \", item)\n",
    "        else:\n",
    "            outputArray[item] = item"
   ]
  },
  {
   "cell_type": "code",
   "execution_count": 29,
   "metadata": {},
   "outputs": [
    {
     "name": "stdout",
     "output_type": "stream",
     "text": [
      "Duplicate:  7\n"
     ]
    }
   ],
   "source": [
    "# Test\n",
    "findDuplicate(inputArray, n, outputArray)"
   ]
  },
  {
   "cell_type": "code",
   "execution_count": null,
   "metadata": {},
   "outputs": [],
   "source": []
  }
 ],
 "metadata": {
  "kernelspec": {
   "display_name": "Python 3",
   "language": "python",
   "name": "python3"
  },
  "language_info": {
   "codemirror_mode": {
    "name": "ipython",
    "version": 3
   },
   "file_extension": ".py",
   "mimetype": "text/x-python",
   "name": "python",
   "nbconvert_exporter": "python",
   "pygments_lexer": "ipython3",
   "version": "3.6.7"
  }
 },
 "nbformat": 4,
 "nbformat_minor": 4
}
