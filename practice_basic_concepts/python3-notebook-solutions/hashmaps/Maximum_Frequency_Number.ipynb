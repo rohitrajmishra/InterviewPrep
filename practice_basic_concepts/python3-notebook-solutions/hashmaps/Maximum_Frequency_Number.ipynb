{
 "cells": [
  {
   "cell_type": "markdown",
   "metadata": {},
   "source": [
    "# Maximum Frequency Number"
   ]
  },
  {
   "cell_type": "markdown",
   "metadata": {},
   "source": [
    "# Code : Maximum Frequency Number\n",
    "Send Feedback\n",
    "You are given an array of integers that contain numbers in random order. Write a program to find and return the number which occurs the maximum times in the given input.\n",
    "If two or more elements contend for the maximum frequency, return the element which occurs in the array first.\n",
    "Input Format:\n",
    "\n",
    "The first line of input contains an integer, that denotes the value of the size of the array. Let us denote it with the symbol N.\n",
    "The following line contains N space separated integers, that denote the value of the elements of the array.\n",
    "\n",
    "Output Format :\n",
    "\n",
    "The first and only line of output contains most frequent element in the given array.\n",
    "\n",
    "Constraints:\n",
    "\n",
    "0 <= N <= 10^8\n",
    "Time Limit: 1 sec\n",
    "\n",
    "Sample Input 1 :\n",
    "\n",
    "13\n",
    "2 12 2 11 12 2 1 2 2 11 12 2 6 \n",
    "\n",
    "Sample Output 1 :\n",
    "\n",
    "2\n",
    "\n",
    "Sample Input 2 :\n",
    "\n",
    "3\n",
    "1 4 5\n",
    "\n",
    "Sample Output 2 :\n",
    "\n",
    "1\n",
    "\n"
   ]
  },
  {
   "cell_type": "code",
   "execution_count": 62,
   "metadata": {},
   "outputs": [],
   "source": [
    "from collections import OrderedDict \n",
    "\n",
    "def maxfreq(arr):\n",
    "    #Write your code here \n",
    "    d = OrderedDict()\n",
    "    result = -1\n",
    "    max_freq = -1\n",
    "    \n",
    "    for num in arr:\n",
    "        d[num] = d.get(num, 0) + 1\n",
    "    \n",
    "    # in case of tie we need to check which element comes first\n",
    "    for num in d:\n",
    "        if(d[num] > max_freq):\n",
    "            result = num\n",
    "            max_freq = d[num]\n",
    "    print(\"Result: %d --> Freq: %d\" %(result, max_freq))\n",
    "    \n",
    "    \n",
    "    \n",
    "# def takeInput():\n",
    "#     n=int(input())\n",
    "#     if n==0:\n",
    "#         return list(),0\n",
    "#     arr=list(map(int,input().split(' ')))\n",
    "#     return arr,n"
   ]
  },
  {
   "cell_type": "code",
   "execution_count": 63,
   "metadata": {},
   "outputs": [],
   "source": [
    "# arr,n=takeInput()"
   ]
  },
  {
   "cell_type": "code",
   "execution_count": 64,
   "metadata": {},
   "outputs": [],
   "source": [
    "# test\n",
    "n = 13\n",
    "arr = [2,12,2,11,12,1,2,2,11,12,6]"
   ]
  },
  {
   "cell_type": "code",
   "execution_count": 65,
   "metadata": {},
   "outputs": [
    {
     "name": "stdout",
     "output_type": "stream",
     "text": [
      "Result: 2 --> Freq: 4\n"
     ]
    }
   ],
   "source": [
    "maxfreq(arr)"
   ]
  },
  {
   "cell_type": "code",
   "execution_count": 66,
   "metadata": {},
   "outputs": [
    {
     "name": "stdout",
     "output_type": "stream",
     "text": [
      "Result: 1 --> Freq: 1\n"
     ]
    }
   ],
   "source": [
    "arr = [1, 4, 5]\n",
    "maxfreq(arr)"
   ]
  },
  {
   "cell_type": "code",
   "execution_count": 67,
   "metadata": {},
   "outputs": [
    {
     "name": "stdout",
     "output_type": "stream",
     "text": [
      "Result: 1 --> Freq: 2\n"
     ]
    }
   ],
   "source": [
    "arr = [1, 2, 2, 1]\n",
    "maxfreq(arr)"
   ]
  },
  {
   "cell_type": "code",
   "execution_count": null,
   "metadata": {},
   "outputs": [],
   "source": []
  }
 ],
 "metadata": {
  "kernelspec": {
   "display_name": "Python 3",
   "language": "python",
   "name": "python3"
  },
  "language_info": {
   "codemirror_mode": {
    "name": "ipython",
    "version": 3
   },
   "file_extension": ".py",
   "mimetype": "text/x-python",
   "name": "python",
   "nbconvert_exporter": "python",
   "pygments_lexer": "ipython3",
   "version": "3.6.7"
  }
 },
 "nbformat": 4,
 "nbformat_minor": 4
}
