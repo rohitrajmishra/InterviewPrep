{
 "cells": [
  {
   "cell_type": "markdown",
   "metadata": {},
   "source": [
    "#  Pairs with difference K\n",
    "Send Feedback\n",
    "You are given with an array of integers and an integer K. You have to find and print the count of all such pairs which have difference K.\n",
    "Note: Take absolute difference between the elements of the array.\n",
    "Input Format:\n",
    "\n",
    "The first line of input contains an integer, that denotes the value of the size of the array. Let us denote it with the symbol n.\n",
    "The following line contains n space separated integers, that denote the value of the elements of the array.\n",
    "The following line contains an integer, that denotes the value of K.\n",
    "\n",
    "Output format :\n",
    "\n",
    "The first and only line of output contains count of all such pairs which have an absolute difference of K. \n",
    "\n",
    "Constraints :\n",
    "\n",
    "0 <= n <= 10^4\n",
    "Time Limit: 1 sec\n",
    "\n",
    "Sample Input 1 :\n",
    "\n",
    "4 \n",
    "5 1 2 4\n",
    "3\n",
    "\n",
    "Sample Output 1 :\n",
    "\n",
    "2\n",
    "\n",
    "Sample Input 2 :\n",
    "\n",
    "4\n",
    "4 4 4 4 \n",
    "0\n",
    "\n",
    "Sample Output 2 :\n",
    "\n",
    "6\n",
    "\n"
   ]
  },
  {
   "cell_type": "code",
   "execution_count": 1,
   "metadata": {},
   "outputs": [],
   "source": [
    "# Python 3 program To calculate  \n",
    "# The Value Of nCr \n",
    "  \n",
    "def nCr(n, r): \n",
    "  \n",
    "    return (fact(n) / (fact(r)  \n",
    "                * fact(n - r))) \n",
    "  \n",
    "# Returns factorial of n \n",
    "def fact(n): \n",
    "  \n",
    "    res = 1\n",
    "      \n",
    "    for i in range(2, n+1): \n",
    "        res = res * i \n",
    "          \n",
    "    return res \n",
    "  \n",
    "# # Driver code \n",
    "# n = 0\n",
    "# r = 2\n",
    "# print(int(nCr(n, r))) \n",
    "  \n",
    "# # This code is contributed \n",
    "# # by Smitha # GeeksforGeeks"
   ]
  },
  {
   "cell_type": "code",
   "execution_count": 76,
   "metadata": {},
   "outputs": [],
   "source": [
    "from collections import OrderedDict \n",
    "\n",
    "def printPairDiffK(arr,k):\n",
    "    d = OrderedDict()\n",
    "    num_of_pairs = 0\n",
    "    # Write your code here\n",
    "    for key in arr:\n",
    "        d[key] = d.get(key, 0) + 1\n",
    "        \n",
    "#     for key in d:\n",
    "#         print(key, d[key])\n",
    "                \n",
    "    \n",
    "#     print(d)\n",
    "    visited = []\n",
    "    # count pairs from hashmap\n",
    "    for key in d:\n",
    "        required_num1 = key + k\n",
    "        required_num2 = key - k\n",
    "        \n",
    "        # handling corner case for ncr type of cases\n",
    "        if(required_num1 == required_num2):\n",
    "            num_of_pairs += int(nCr(d[key], 2))\n",
    "            visited.append(key)\n",
    "        else:\n",
    "#             print(\"key: %d , rn1: %d, rn2: %d, cur_result: %d\" %(key, required_num1, required_num2, num_of_pairs))\n",
    "#             if(required_num1 in visited):\n",
    "#                 print(\"%d, %d\" %(key, required_num1))\n",
    "#             if(required_num2 in visited):\n",
    "#                 print(\"%d, %d\" %(key, required_num2))\n",
    "\n",
    "            if(required_num1 in d and required_num1 not in visited):\n",
    "                num_of_pairs += d[key] * d[required_num1]\n",
    "\n",
    "\n",
    "            if(required_num2 in d and required_num2 not in visited):\n",
    "                num_of_pairs += d[key] * d[required_num2]\n",
    "\n",
    "            # after counting mark it visited to avoid recounting\n",
    "#             print(\"visited\", key, \" \", \"num_of_pairs: \", num_of_pairs)\n",
    "            visited.append(key)\n",
    "    #             print(visited)\n",
    "        \n",
    "    return num_of_pairs"
   ]
  },
  {
   "cell_type": "code",
   "execution_count": 77,
   "metadata": {},
   "outputs": [
    {
     "name": "stdout",
     "output_type": "stream",
     "text": [
      "6\n"
     ]
    }
   ],
   "source": [
    "arr = [4, 4, 4, 4]\n",
    "print(printPairDiffK(arr,0))"
   ]
  },
  {
   "cell_type": "code",
   "execution_count": 78,
   "metadata": {},
   "outputs": [
    {
     "name": "stdout",
     "output_type": "stream",
     "text": [
      "2\n"
     ]
    }
   ],
   "source": [
    "arr = [5, 1, 4, 2]\n",
    "print(printPairDiffK(arr,3))"
   ]
  },
  {
   "cell_type": "code",
   "execution_count": 79,
   "metadata": {},
   "outputs": [
    {
     "name": "stdout",
     "output_type": "stream",
     "text": [
      "6\n"
     ]
    }
   ],
   "source": [
    "arr = [5, 1, 2, 8, 11, 5, 4]\n",
    "k = 3\n",
    "print(printPairDiffK(arr,k))"
   ]
  },
  {
   "cell_type": "code",
   "execution_count": null,
   "metadata": {},
   "outputs": [],
   "source": []
  }
 ],
 "metadata": {
  "kernelspec": {
   "display_name": "Python 3",
   "language": "python",
   "name": "python3"
  },
  "language_info": {
   "codemirror_mode": {
    "name": "ipython",
    "version": 3
   },
   "file_extension": ".py",
   "mimetype": "text/x-python",
   "name": "python",
   "nbconvert_exporter": "python",
   "pygments_lexer": "ipython3",
   "version": "3.6.7"
  }
 },
 "nbformat": 4,
 "nbformat_minor": 4
}
