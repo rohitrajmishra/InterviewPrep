{
 "cells": [
  {
   "cell_type": "markdown",
   "metadata": {},
   "source": [
    "#  Code : Pair Sum to 0\n",
    "Send Feedback\n",
    "Given a random integer array A of size N. Find and print the count of pair of elements in the array which sum up to 0.\n",
    "Note: Array A can contain duplicate elements as well.\n",
    "Input format:\n",
    "\n",
    "The first line of input contains an integer, that denotes the value of the size of the array. Let us denote it with the symbol N.\n",
    "The following line contains N space separated integers, that denote the value of the elements of the array.\n",
    "\n",
    "Output format :\n",
    "\n",
    "The first and only line of output contains the count of pair of elements in the array which sum up to 0. \n",
    "\n",
    "Constraints :\n",
    "\n",
    "0 <= N <= 10^4\n",
    "Time Limit: 1 sec\n",
    "\n",
    "Sample Input 1:\n",
    "\n",
    "5\n",
    "2 1 -2 2 3\n",
    "\n",
    "Sample Output 1:\n",
    "\n",
    "2\n",
    "\n"
   ]
  },
  {
   "cell_type": "markdown",
   "metadata": {},
   "source": [
    "==="
   ]
  },
  {
   "cell_type": "code",
   "execution_count": 1,
   "metadata": {},
   "outputs": [],
   "source": [
    "# from sys import stdin\n",
    "\n",
    "def takeInput():\n",
    "    #To take fast I/O\n",
    "    n=int(input())\n",
    "    if n==0:\n",
    "        return list(),0\n",
    "    arr=list(map(int,input().split( )))\n",
    "    return arr,n"
   ]
  },
  {
   "cell_type": "code",
   "execution_count": 21,
   "metadata": {},
   "outputs": [],
   "source": [
    "\n",
    "\n",
    "# Python 3 program To calculate  \n",
    "# The Value Of nCr \n",
    "  \n",
    "def nCr(n, r): \n",
    "  \n",
    "    return (fact(n) / (fact(r)  \n",
    "                * fact(n - r))) \n",
    "  \n",
    "# Returns factorial of n \n",
    "def fact(n): \n",
    "  \n",
    "    res = 1\n",
    "      \n",
    "    for i in range(2, n+1): \n",
    "        res = res * i \n",
    "          \n",
    "    return res \n",
    "  \n",
    "# # Driver code \n",
    "# n = 0\n",
    "# r = 2\n",
    "# print(int(nCr(n, r))) \n",
    "  \n",
    "# # This code is contributed \n",
    "# # by Smitha # GeeksforGeeks\n"
   ]
  },
  {
   "cell_type": "code",
   "execution_count": 16,
   "metadata": {},
   "outputs": [
    {
     "data": {
      "text/plain": [
       "1"
      ]
     },
     "execution_count": 16,
     "metadata": {},
     "output_type": "execute_result"
    }
   ],
   "source": [
    "fact(-1)"
   ]
  },
  {
   "cell_type": "code",
   "execution_count": 19,
   "metadata": {},
   "outputs": [
    {
     "data": {
      "text/plain": [
       "0.5"
      ]
     },
     "execution_count": 19,
     "metadata": {},
     "output_type": "execute_result"
    }
   ],
   "source": [
    "fact(1) / (fact(2) * fact(-1))"
   ]
  },
  {
   "cell_type": "code",
   "execution_count": 22,
   "metadata": {},
   "outputs": [],
   "source": [
    "\n",
    "def pairSum0(arr,n):\n",
    "    d = dict()\n",
    "    num_of_pairs = 0\n",
    "    # Write your code here\n",
    "    for key in arr:\n",
    "        d[key] = d.get(key, 0) + 1\n",
    "        \n",
    "#     for key in d:\n",
    "#         print(key, d[key])\n",
    "                \n",
    "    \n",
    "    # count pairs from hashmap\n",
    "    for key in d:\n",
    "        # handling corner case for 0\n",
    "        if(key == 0):\n",
    "            num_of_pairs += int(nCr(d[key], 2)) \n",
    "        else:\n",
    "            required_num = -1 * key\n",
    "\n",
    "            if(required_num in d):\n",
    "                num_of_pairs += d[key] * d[required_num]\n",
    "                # delete already counted keys\n",
    "                d[key] = 0\n",
    "                d[required_num] = 0\n",
    "            else:\n",
    "                pass\n",
    "    \n",
    "    \n",
    "    return num_of_pairs\n",
    "\n",
    "\n",
    "\n",
    "\n",
    "\n",
    "\n",
    "    \n"
   ]
  },
  {
   "cell_type": "code",
   "execution_count": 3,
   "metadata": {},
   "outputs": [
    {
     "name": "stdout",
     "output_type": "stream",
     "text": [
      "5\n",
      "2 1 -2 2 3\n",
      "2\n",
      "1\n",
      "-2\n",
      "2\n",
      "3\n",
      "None\n"
     ]
    }
   ],
   "source": [
    "arr,n=takeInput()\n",
    "print(pairSum0(arr,n))"
   ]
  },
  {
   "cell_type": "code",
   "execution_count": 23,
   "metadata": {},
   "outputs": [
    {
     "name": "stdout",
     "output_type": "stream",
     "text": [
      "2\n"
     ]
    }
   ],
   "source": [
    "print(pairSum0(arr,n))"
   ]
  },
  {
   "cell_type": "code",
   "execution_count": 24,
   "metadata": {},
   "outputs": [
    {
     "name": "stdout",
     "output_type": "stream",
     "text": [
      "10\n"
     ]
    }
   ],
   "source": [
    "n= 5\n",
    "arr = [0, 0, 0, 0, 0]\n",
    "print(pairSum0(arr,n))"
   ]
  },
  {
   "cell_type": "code",
   "execution_count": null,
   "metadata": {},
   "outputs": [],
   "source": []
  }
 ],
 "metadata": {
  "kernelspec": {
   "display_name": "Python 3",
   "language": "python",
   "name": "python3"
  },
  "language_info": {
   "codemirror_mode": {
    "name": "ipython",
    "version": 3
   },
   "file_extension": ".py",
   "mimetype": "text/x-python",
   "name": "python",
   "nbconvert_exporter": "python",
   "pygments_lexer": "ipython3",
   "version": "3.6.7"
  }
 },
 "nbformat": 4,
 "nbformat_minor": 4
}
