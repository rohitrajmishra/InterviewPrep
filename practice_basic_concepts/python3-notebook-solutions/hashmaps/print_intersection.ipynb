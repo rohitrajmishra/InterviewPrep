{
 "cells": [
  {
   "cell_type": "markdown",
   "metadata": {},
   "source": [
    "# "
   ]
  },
  {
   "cell_type": "code",
   "execution_count": null,
   "metadata": {},
   "outputs": [
    {
     "name": "stdout",
     "output_type": "stream",
     "text": [
      "1\n",
      "5\n",
      "5 8 7 4 8\n",
      "8\n"
     ]
    }
   ],
   "source": [
    "from sys import stdin\n",
    "\n",
    "\n",
    "def intersection(arr1, arr2, n, m):\n",
    "    #Your code goes here\n",
    "    d = dict()\n",
    "    \n",
    "    # Insert arr2 in dict\n",
    "    for key in arr2:\n",
    "        d[key] = d.get(key, 0) + 1\n",
    "        \n",
    "    # Check for intersections, \n",
    "    '''\n",
    "    NOTE: \n",
    "    The intersection elements printed would be in the order they appear in the first sorted array/list(ARR1). \n",
    "    '''\n",
    "    for key in sorted(arr1):\n",
    "        if key in d and d.get(key) != 0:\n",
    "            print(key, end = ' ')\n",
    "            d[key] -= 1\n",
    "\n",
    "\n",
    "\n",
    "# Taking input using fast I/O method\n",
    "def takeInput() :\n",
    "    n = int(input())\n",
    "    \n",
    "    if n == 0 :\n",
    "        return list(), 0\n",
    "\n",
    "    arr = list(map(int, input().split(\" \")))\n",
    "    return arr, n\n",
    "\n",
    "\n",
    "#main\n",
    "t = int(input())\n",
    "\n",
    "while t > 0 :\n",
    "\n",
    "    arr1, n = takeInput()\n",
    "    arr2, m = takeInput()\n",
    "    intersection(arr1, arr2, n, m)\n",
    "    print()\n",
    "\n",
    "    t -= 1"
   ]
  },
  {
   "cell_type": "code",
   "execution_count": null,
   "metadata": {},
   "outputs": [],
   "source": []
  }
 ],
 "metadata": {
  "kernelspec": {
   "display_name": "Python 3",
   "language": "python",
   "name": "python3"
  },
  "language_info": {
   "codemirror_mode": {
    "name": "ipython",
    "version": 3
   },
   "file_extension": ".py",
   "mimetype": "text/x-python",
   "name": "python",
   "nbconvert_exporter": "python",
   "pygments_lexer": "ipython3",
   "version": "3.6.7"
  }
 },
 "nbformat": 4,
 "nbformat_minor": 4
}
