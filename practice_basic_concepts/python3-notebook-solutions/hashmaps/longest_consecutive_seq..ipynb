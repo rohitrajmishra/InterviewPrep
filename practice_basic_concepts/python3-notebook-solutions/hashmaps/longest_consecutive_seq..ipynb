{
 "cells": [
  {
   "cell_type": "markdown",
   "metadata": {},
   "source": [
    "# Longest consecutive seq."
   ]
  },
  {
   "cell_type": "markdown",
   "metadata": {},
   "source": [
    "#  Longest Consecutive Sequence\n",
    "Send Feedback\n",
    "You are given an array of unique integers that contain numbers in random order. You have to find the longest possible sequence of consecutive numbers using the numbers from given array.\n",
    "You need to return the output array which contains starting and ending element. If the length of the longest possible sequence is one, then the output array must contain only single element.\n",
    "Note:\n",
    "\n",
    "1. Best solution takes O(n) time.\n",
    "2. If two sequences are of equal length, then return the sequence starting with the number whose occurrence is earlier in the array.\n",
    "\n",
    "Input format:\n",
    "\n",
    "The first line of input contains an integer, that denotes the value of the size of the array. Let us denote it with the symbol n.\n",
    "The following line contains n space separated integers, that denote the value of the elements of the array.\n",
    "\n",
    "Output format:\n",
    "\n",
    "The first and only line of output contains starting and ending element of the longest consecutive sequence. If the length of longest consecutive sequence, then just print the starting element.\n",
    "\n",
    "Constraints :\n",
    "\n",
    "0 <= n <= 10^6\n",
    "Time Limit: 1 sec\n",
    "\n",
    "Sample Input 1 :\n",
    "\n",
    "13\n",
    "2 12 9 16 10 5 3 20 25 11 1 8 6 \n",
    "\n",
    "Sample Output 1 :\n",
    "\n",
    "8 12 \n",
    "\n",
    "Sample Input 2 :\n",
    "\n",
    "7\n",
    "3 7 2 1 9 8 41\n",
    "\n",
    "Sample Output 2 :\n",
    "\n",
    "7 9\n",
    "Explanation: Sequence should be of consecutive numbers. Here we have 2 sequences with same length i.e. [1, 2, 3] and [7, 8, 9], but we should select [7, 8, 9] because the starting point of [7, 8, 9] comes first in input array and therefore, the output will be 7 9, as we have to print starting and ending element of the longest consecutive sequence.\n",
    "\n",
    "Sample Input 3 :\n",
    "\n",
    "7\n",
    "15 24 23 12 19 11 16\n",
    "\n",
    "Sample Output 3 :\n",
    "\n",
    "15 16\n",
    "\n"
   ]
  },
  {
   "cell_type": "code",
   "execution_count": 24,
   "metadata": {},
   "outputs": [],
   "source": [
    "def longestConsecutiveSubsequence(arr,n): \n",
    "    d = dict()\n",
    "    for key in arr:\n",
    "        d[key] = True\n",
    "    \n",
    "    max_seq_len = 0\n",
    "    result_start = 0\n",
    "    result_end = 0\n",
    "    \n",
    "    for x in arr:\n",
    "        cur_start = x\n",
    "        cur_end = x\n",
    "        \n",
    "        next_num = x+1\n",
    "        cur_seq_len = 1\n",
    "        \n",
    "        while(next_num in d):\n",
    "            cur_seq_len += 1\n",
    "            cur_end = next_num\n",
    "#             print(cur_end)\n",
    "            next_num += 1\n",
    "            \n",
    "        if(cur_seq_len > max_seq_len):\n",
    "            max_seq_len = cur_seq_len\n",
    "            result_start = cur_start\n",
    "            result_end = cur_end\n",
    "#             print(\"[ %d, %d --> Len %d]\" %(result_start, result_end, max_seq_len))\n",
    "    \n",
    "#     print(\"[ %d, %d --> Len %d]\" %(result_start, result_end, max_seq_len))\n",
    "    #result\n",
    "    ans = []\n",
    "    if(max_seq_len == 1):\n",
    "        ans.append(result_start)\n",
    "        return result_start\n",
    "    else:\n",
    "        ans.append(result_start)\n",
    "        ans.append(result_end)\n",
    "\n",
    "    return ans\n",
    "        \n",
    "    "
   ]
  },
  {
   "cell_type": "code",
   "execution_count": 25,
   "metadata": {},
   "outputs": [
    {
     "name": "stdout",
     "output_type": "stream",
     "text": [
      "(4, 6)\n"
     ]
    }
   ],
   "source": [
    "arr = [4, 5, 6, 8]\n",
    "print(longestConsecutiveSubsequence(arr, 4))"
   ]
  },
  {
   "cell_type": "code",
   "execution_count": 26,
   "metadata": {},
   "outputs": [
    {
     "name": "stdout",
     "output_type": "stream",
     "text": [
      "4 5 6 8\n"
     ]
    }
   ],
   "source": [
    "print(*arr)"
   ]
  },
  {
   "cell_type": "code",
   "execution_count": null,
   "metadata": {},
   "outputs": [],
   "source": []
  },
  {
   "cell_type": "code",
   "execution_count": null,
   "metadata": {},
   "outputs": [],
   "source": []
  },
  {
   "cell_type": "code",
   "execution_count": null,
   "metadata": {},
   "outputs": [],
   "source": []
  },
  {
   "cell_type": "code",
   "execution_count": null,
   "metadata": {},
   "outputs": [],
   "source": []
  }
 ],
 "metadata": {
  "kernelspec": {
   "display_name": "Python 3",
   "language": "python",
   "name": "python3"
  },
  "language_info": {
   "codemirror_mode": {
    "name": "ipython",
    "version": 3
   },
   "file_extension": ".py",
   "mimetype": "text/x-python",
   "name": "python",
   "nbconvert_exporter": "python",
   "pygments_lexer": "ipython3",
   "version": "3.6.7"
  }
 },
 "nbformat": 4,
 "nbformat_minor": 4
}
