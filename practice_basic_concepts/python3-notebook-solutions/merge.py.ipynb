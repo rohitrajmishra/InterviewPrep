{
 "cells": [
  {
   "cell_type": "code",
   "execution_count": 1,
   "metadata": {},
   "outputs": [],
   "source": [
    "#  Code : Merge two sorted arrays\n",
    "# Send Feedback\n",
    "# You have been given two sorted arrays/lists(ARR1 and ARR2) of size N and M respectively, merge them into a third array/list such that the third array is also sorted.\n",
    "# Input Format :\n",
    "\n",
    "# The first line contains an Integer 't' which denotes the number of test cases or queries to be run. Then the test cases follow.\n",
    "\n",
    "# First line of each test case or query contains an integer 'N' representing the size of the first array/list.\n",
    "\n",
    "# Second line contains 'N' single space separated integers representing the elements of the first array/list.\n",
    "\n",
    "# Third line contains an integer 'M' representing the size of the second array/list.\n",
    "\n",
    "# Fourth line contains 'M' single space separated integers representing the elements of the second array/list.\n",
    "\n",
    "# Output Format :\n",
    "\n",
    "# For each test case, print the sorted array/list(of size N + M) in a single row, separated by a single space.\n",
    "\n",
    "# Output for every test case will be printed in a separate line.\n",
    "\n",
    "# Constraints :\n",
    "\n",
    "# 1 <= t <= 10^2\n",
    "# 0 <= N <= 10^5\n",
    "# 0 <= M <= 10^5\n",
    "# Time Limit: 1 sec \n",
    "\n",
    "# Sample Input 1 :\n",
    "\n",
    "# 1\n",
    "# 5\n",
    "# 1 3 4 7 11\n",
    "# 4\n",
    "# 2 4 6 13\n",
    "\n",
    "# Sample Output 1 :\n",
    "\n",
    "# 1 2 3 4 4 6 7 11 13 \n",
    "\n",
    "# Sample Input 2 :\n",
    "\n",
    "# 2\n",
    "# 3\n",
    "# 10 100 500\n",
    "# 7\n",
    "# 4 7 9 25 30 300 450\n",
    "# 4\n",
    "# 7 45 89 90\n",
    "# 0\n",
    "\n",
    "# Sample Output 2 :\n",
    "\n",
    "# 4 7 9 10 25 30 100 300 450 500\n",
    "# 7 45 89 90\n",
    "\n"
   ]
  },
  {
   "cell_type": "code",
   "execution_count": 17,
   "metadata": {},
   "outputs": [],
   "source": [
    "# time - O(nlogn), space - O(n)\n",
    "def merge(arr1, arr2, M, N):\n",
    "    i = 0;\n",
    "    j = 0;\n",
    "    outSize = M+N\n",
    "    output = [None for _ in range(outSize)]\n",
    "    outIndex = 0;\n",
    "    \n",
    "    while(i<M and j<N):\n",
    "        #compare\n",
    "        if(arr1[i] <= arr2[j]):\n",
    "            output[outIndex] = arr1[i];\n",
    "            i += 1;\n",
    "        else:\n",
    "            output[outIndex] = arr2[j];\n",
    "            j += 1;\n",
    "        outIndex +=1;\n",
    "    \n",
    "    #Check which arr has remaining elements\n",
    "    if(i<M):\n",
    "        while(i<M):\n",
    "            output[outIndex] = arr1[i];\n",
    "            i += 1;\n",
    "            outIndex +=1;\n",
    "    else:\n",
    "        while(j<N):\n",
    "            output[outIndex] = arr2[j];\n",
    "            j += 1;\n",
    "            outIndex +=1;\n",
    "            \n",
    "    return output;"
   ]
  },
  {
   "cell_type": "code",
   "execution_count": 18,
   "metadata": {},
   "outputs": [],
   "source": [
    "M = 5\n",
    "arr1 = [1,3,4,7,11]\n",
    "N = 4\n",
    "arr2 = [2,4,6,13]"
   ]
  },
  {
   "cell_type": "code",
   "execution_count": 19,
   "metadata": {},
   "outputs": [],
   "source": [
    "output =  merge(arr1, arr2, M, N)"
   ]
  },
  {
   "cell_type": "code",
   "execution_count": 20,
   "metadata": {},
   "outputs": [
    {
     "data": {
      "text/plain": [
       "[1, 2, 3, 4, 4, 6, 7, 11, 13]"
      ]
     },
     "execution_count": 20,
     "metadata": {},
     "output_type": "execute_result"
    }
   ],
   "source": [
    "output"
   ]
  },
  {
   "cell_type": "code",
   "execution_count": null,
   "metadata": {},
   "outputs": [],
   "source": []
  }
 ],
 "metadata": {
  "kernelspec": {
   "display_name": "Python 3",
   "language": "python",
   "name": "python3"
  },
  "language_info": {
   "codemirror_mode": {
    "name": "ipython",
    "version": 3
   },
   "file_extension": ".py",
   "mimetype": "text/x-python",
   "name": "python",
   "nbconvert_exporter": "python",
   "pygments_lexer": "ipython3",
   "version": "3.6.7"
  }
 },
 "nbformat": 4,
 "nbformat_minor": 4
}
